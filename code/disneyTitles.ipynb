{
 "cells": [
  {
   "cell_type": "code",
   "execution_count": 13,
   "id": "4888f7d0",
   "metadata": {},
   "outputs": [],
   "source": [
    "# import libraries \n",
    "\n",
    "from bs4 import BeautifulSoup\n",
    "import requests\n",
    "import time\n",
    "import datetime\n",
    "\n",
    "import smtplib"
   ]
  },
  {
   "cell_type": "code",
   "execution_count": null,
   "id": "2b8c1acd",
   "metadata": {
    "scrolled": true
   },
   "outputs": [],
   "source": [
    "targetSite= 'https://dejaview.news/disney-plus-library-sizes-globally/'\n",
    "request = requests.get(targetSite)\n",
    "html = request.text\n",
    "soup = BeautifulSoup(html, 'html.parser')\n",
    "\n",
    "items = soup.find_all('td', class_=\"has-text-align-left\")\n",
    "countries = []\n",
    "for country in items:\n",
    "        if country.strong != None:\n",
    "            countries.append(country.strong.text)\n",
    "print(countries)"
   ]
  },
  {
   "cell_type": "code",
   "execution_count": null,
   "id": "17391236",
   "metadata": {
    "scrolled": true
   },
   "outputs": [],
   "source": [
    "titles = []\n",
    "for i in range(1,len(items),3):\n",
    "    if items[i] != None:\n",
    "        titles.append(items[i].text)\n",
    "print(titles)"
   ]
  },
  {
   "cell_type": "code",
   "execution_count": 80,
   "id": "3197c2f9",
   "metadata": {},
   "outputs": [],
   "source": [
    "import csv \n",
    "\n",
    "header = ['Country', 'Titles']\n",
    "\n",
    "\n",
    "with open('Dtest7.csv', 'w', newline='', encoding='UTF8') as f:\n",
    "    writer = csv.writer(f)\n",
    "    writer.writerow(header)\n",
    "    for i in range(len(countries)):\n",
    "        data = [countries[i], titles[i]]\n",
    "        writer.writerow(data)\n",
    "    \n",
    "import pandas as pd\n",
    "\n"
   ]
  },
  {
   "cell_type": "code",
   "execution_count": null,
   "id": "5e152e82",
   "metadata": {},
   "outputs": [],
   "source": []
  }
 ],
 "metadata": {
  "kernelspec": {
   "display_name": "Python 3 (ipykernel)",
   "language": "python",
   "name": "python3"
  },
  "language_info": {
   "codemirror_mode": {
    "name": "ipython",
    "version": 3
   },
   "file_extension": ".py",
   "mimetype": "text/x-python",
   "name": "python",
   "nbconvert_exporter": "python",
   "pygments_lexer": "ipython3",
   "version": "3.9.7"
  }
 },
 "nbformat": 4,
 "nbformat_minor": 5
}
