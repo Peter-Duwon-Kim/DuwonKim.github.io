{
 "cells": [
  {
   "cell_type": "code",
   "execution_count": 89,
   "id": "f19998f3",
   "metadata": {},
   "outputs": [],
   "source": [
    "# import libraries \n",
    "\n",
    "from bs4 import BeautifulSoup\n",
    "import requests\n",
    "import time\n",
    "import datetime\n",
    "\n",
    "import smtplib"
   ]
  },
  {
   "cell_type": "code",
   "execution_count": 96,
   "id": "00b2d8e1",
   "metadata": {},
   "outputs": [],
   "source": [
    "targetSite= 'https://frugalanswers.com/how-much-is-disney-plus-subscription-around-the-world/'\n",
    "request = requests.get(targetSite)\n",
    "html = request.text\n",
    "soup = BeautifulSoup(html, 'html.parser')\n",
    "\n",
    "\n",
    "\n"
   ]
  },
  {
   "cell_type": "code",
   "execution_count": null,
   "id": "040508ad",
   "metadata": {
    "scrolled": true
   },
   "outputs": [],
   "source": [
    "for i in range(2,40,2):\n",
    "    items = soup.find_all('tr', class_=\"row-{0} even\".format(i))\n",
    "    print(items)\n",
    "    "
   ]
  },
  {
   "cell_type": "code",
   "execution_count": 110,
   "id": "44ca453f",
   "metadata": {
    "scrolled": true
   },
   "outputs": [],
   "source": [
    "countries = []\n",
    "cItems = soup.find_all('td', class_=\"column-1\")\n",
    "for ctry in cItems:\n",
    "    countries.append(ctry.text)"
   ]
  },
  {
   "cell_type": "code",
   "execution_count": 111,
   "id": "5459997e",
   "metadata": {
    "scrolled": true
   },
   "outputs": [],
   "source": [
    "prices = []\n",
    "pItems = soup.find_all('td', class_=\"column-3\")\n",
    "for prc in pItems:\n",
    "    prices.append(prc.text[1:])"
   ]
  },
  {
   "cell_type": "code",
   "execution_count": 112,
   "id": "975f1a8f",
   "metadata": {},
   "outputs": [],
   "source": [
    "import csv \n",
    "\n",
    "header = ['Country', 'Price']\n",
    "\n",
    "\n",
    "with open('Ptest.csv', 'w', newline='', encoding='UTF8') as f:\n",
    "    writer = csv.writer(f)\n",
    "    writer.writerow(header)\n",
    "    for i in range(len(countries)):\n",
    "        data = [countries[i], prices[i]]\n",
    "        writer.writerow(data)"
   ]
  },
  {
   "cell_type": "code",
   "execution_count": null,
   "id": "c4d021ee",
   "metadata": {},
   "outputs": [],
   "source": []
  }
 ],
 "metadata": {
  "kernelspec": {
   "display_name": "Python 3 (ipykernel)",
   "language": "python",
   "name": "python3"
  },
  "language_info": {
   "codemirror_mode": {
    "name": "ipython",
    "version": 3
   },
   "file_extension": ".py",
   "mimetype": "text/x-python",
   "name": "python",
   "nbconvert_exporter": "python",
   "pygments_lexer": "ipython3",
   "version": "3.9.7"
  }
 },
 "nbformat": 4,
 "nbformat_minor": 5
}
